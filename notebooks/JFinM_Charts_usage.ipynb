{
 "cells": [
  {
   "cell_type": "markdown",
   "metadata": {},
   "source": [
    "Note: if you run this notebook yourself, make sure to mount the complete `JFinM_Charts` directory to `IJulia` / `Jupyter`, as the notebook will link to the d3 directory in the main project directory."
   ]
  },
  {
   "cell_type": "markdown",
   "metadata": {},
   "source": [
    "- directory `mount` equals `JFinM_Charts`\n",
    "- the deviating name is due to the fact that I run this notebook in a virtual environment, where `JFinM_Charts` is mounted as directory `mount`"
   ]
  },
  {
   "cell_type": "code",
   "execution_count": 1,
   "metadata": {
    "collapsed": false
   },
   "outputs": [
    {
     "data": {
      "text/plain": [
       "\"/home/jovyan/mount/notebooks\""
      ]
     },
     "execution_count": 1,
     "metadata": {},
     "output_type": "execute_result"
    }
   ],
   "source": [
    "pwd()"
   ]
  },
  {
   "cell_type": "markdown",
   "metadata": {},
   "source": [
    "In general, we need to define paths to the following components:\n",
    "- output file\n",
    "- d3 library\n",
    "- data\n",
    "- d3 chart code\n",
    "- localhost\n",
    "\n",
    "Thereby only two components are defined **relative to the current directory**:\n",
    "- output file\n",
    "- localhost\n",
    "\n",
    "All other components are **relative to the output file**:\n",
    "- d3 library\n",
    "- data,\n",
    "\n",
    "except the d3 chart code, which always resides in the package directory and gets completely included into the output file."
   ]
  },
  {
   "cell_type": "markdown",
   "metadata": {},
   "source": [
    "## Define chart type"
   ]
  },
  {
   "cell_type": "markdown",
   "metadata": {},
   "source": [
    "The best way to create a chart instance is through the general function `chart`, which simultaneously allows further customizations through keyword arguments:"
   ]
  },
  {
   "cell_type": "code",
   "execution_count": 2,
   "metadata": {
    "collapsed": false
   },
   "outputs": [],
   "source": [
    "using JFinM_Charts"
   ]
  },
  {
   "cell_type": "markdown",
   "metadata": {},
   "source": [
    "- in order to allow offline charts, create link to local d3 library inside of current directory\n",
    "- symbolic link will be an absolute path to `d3` folder in `JFinM_Charts` directory, so we will not use it in this demo, as the notebook charts should be viewable on github-pages and nbviewer also"
   ]
  },
  {
   "cell_type": "code",
   "execution_count": 3,
   "metadata": {
    "collapsed": false
   },
   "outputs": [
    {
     "name": "stdout",
     "output_type": "stream",
     "text": [
      "symlink: file already exists (EEXIST)"
     ]
    },
    {
     "data": {
      "text/plain": [
       "D3Lib(\"./d3\",false)"
      ]
     },
     "execution_count": 3,
     "metadata": {},
     "output_type": "execute_result"
    }
   ],
   "source": [
    "d3lib = d3SymLink()"
   ]
  },
  {
   "cell_type": "markdown",
   "metadata": {},
   "source": [
    "- the current directory now entails a link to d3:"
   ]
  },
  {
   "cell_type": "code",
   "execution_count": 4,
   "metadata": {
    "collapsed": false
   },
   "outputs": [
    {
     "data": {
      "text/plain": [
       "4-element Array{Union(ASCIIString,UTF8String),1}:\n",
       " \"d3\"                      \n",
       " \".ipynb_checkpoints\"      \n",
       " \"JFinM_Charts_usage.ipynb\"\n",
       " \"tmp\"                     "
      ]
     },
     "execution_count": 4,
     "metadata": {},
     "output_type": "execute_result"
    }
   ],
   "source": [
    "readdir()"
   ]
  },
  {
   "cell_type": "markdown",
   "metadata": {},
   "source": [
    "- this path now could be used to reference the local d3 library:"
   ]
  },
  {
   "cell_type": "code",
   "execution_count": 5,
   "metadata": {
    "collapsed": false
   },
   "outputs": [
    {
     "name": "stdout",
     "output_type": "stream",
     "text": [
      "D3Lib \n",
      "  path: ASCIIString \"./d3\"\n",
      "  online: Bool false\n"
     ]
    }
   ],
   "source": [
    "dump(d3lib)"
   ]
  },
  {
   "cell_type": "markdown",
   "metadata": {},
   "source": [
    "- we use the d3 library contained in the repositories main directory instead"
   ]
  },
  {
   "cell_type": "code",
   "execution_count": 6,
   "metadata": {
    "collapsed": false
   },
   "outputs": [
    {
     "data": {
      "text/plain": [
       "D3Lib(\"../d3\",false)"
      ]
     },
     "execution_count": 6,
     "metadata": {},
     "output_type": "execute_result"
    }
   ],
   "source": [
    "d3lib = JFinM_Charts.D3Lib(\"../d3\")"
   ]
  },
  {
   "cell_type": "markdown",
   "metadata": {},
   "source": [
    "#### Tree chart without data file"
   ]
  },
  {
   "cell_type": "markdown",
   "metadata": {},
   "source": [
    "- create data"
   ]
  },
  {
   "cell_type": "code",
   "execution_count": 7,
   "metadata": {
    "collapsed": false,
    "scrolled": true
   },
   "outputs": [
    {
     "data": {
      "text/plain": [
       "6x6 Array{Int64,2}:\n",
       " 0  2  2  2  2  2\n",
       " 1  0  3  3  3  3\n",
       " 2  2  0  4  4  4\n",
       " 3  3  3  0  5  5\n",
       " 4  4  4  4  0  6\n",
       " 5  5  5  5  5  0"
      ]
     },
     "execution_count": 7,
     "metadata": {},
     "output_type": "execute_result"
    }
   ],
   "source": [
    "treeData = [0  2  2  2  2  2;\n",
    "            1  0  3  3  3  3;\n",
    "            2  2  0  4  4  4;\n",
    "            3  3  3  0  5  5;\n",
    "            4  4  4  4  0  6;\n",
    "            5  5  5  5  5  0]"
   ]
  },
  {
   "cell_type": "markdown",
   "metadata": {},
   "source": [
    "- create customized chart"
   ]
  },
  {
   "cell_type": "code",
   "execution_count": 8,
   "metadata": {
    "collapsed": false
   },
   "outputs": [
    {
     "data": {
      "text/plain": [
       "VineTreeChart(\"VineTreeChart\",\"vines/vineTreeChart.js\",false,1,80,500,50,12)"
      ]
     },
     "execution_count": 8,
     "metadata": {},
     "output_type": "execute_result"
    }
   ],
   "source": [
    "trChrt = chart(JFinM_Charts.VineTreeChart, vSpace = 50, width = 80)"
   ]
  },
  {
   "cell_type": "markdown",
   "metadata": {},
   "source": [
    "- to see whether a chart requires external data, look at field `extData`:"
   ]
  },
  {
   "cell_type": "code",
   "execution_count": 9,
   "metadata": {
    "collapsed": false
   },
   "outputs": [
    {
     "name": "stdout",
     "output_type": "stream",
     "text": [
      "VineTreeChart \n",
      "  chartType: ASCIIString \"VineTreeChart\"\n",
      "  jsCodePath: ASCIIString \"vines/vineTreeChart.js\"\n",
      "  extData: Bool false\n",
      "  nData: Int64 1\n",
      "  width: Int64 80\n",
      "  height: Int64 500\n",
      "  vSpace: Int64 50\n",
      "  nodeRadius: Int64 12\n"
     ]
    }
   ],
   "source": [
    "dump(trChrt)"
   ]
  },
  {
   "cell_type": "markdown",
   "metadata": {},
   "source": [
    "- hence this chart can be embedded without external data"
   ]
  },
  {
   "cell_type": "code",
   "execution_count": 10,
   "metadata": {
    "collapsed": false,
    "scrolled": false
   },
   "outputs": [
    {
     "data": {
      "text/html": [
       "<iframe src=\"tmp/juliaoaNYAp_VineTreeChart.html\"  width=\"800\"height=\"400\"></iframe>"
      ],
      "text/plain": [
       "D3Embedded(NB_Raw_HTML(\"<iframe src=\\\"tmp/juliaoaNYAp_VineTreeChart.html\\\"  width=\\\"800\\\"height=\\\"400\\\"></iframe>\"),\"/home/jovyan/mount/notebooks/tmp/juliaoaNYAp_VineTreeChart.html\",\"tmp/juliaoaNYAp_VineTreeChart.html\",ASCIIString[\"embedded data\"])"
      ]
     },
     "execution_count": 10,
     "metadata": {},
     "output_type": "execute_result"
    }
   ],
   "source": [
    "embChart = JFinM_Charts.embed(treeData, trChrt, d3lib)"
   ]
  },
  {
   "cell_type": "markdown",
   "metadata": {},
   "source": [
    "- iframe settings can be modified"
   ]
  },
  {
   "cell_type": "code",
   "execution_count": 11,
   "metadata": {
    "collapsed": false
   },
   "outputs": [
    {
     "data": {
      "text/html": [
       "<iframe src=\"tmp/juliaBTx3WS_VineTreeChart.html\"  width=\"550\"height=\"300\"></iframe>"
      ],
      "text/plain": [
       "D3Embedded(NB_Raw_HTML(\"<iframe src=\\\"tmp/juliaBTx3WS_VineTreeChart.html\\\"  width=\\\"550\\\"height=\\\"300\\\"></iframe>\"),\"/home/jovyan/mount/notebooks/tmp/juliaBTx3WS_VineTreeChart.html\",\"tmp/juliaBTx3WS_VineTreeChart.html\",ASCIIString[\"embedded data\"])"
      ]
     },
     "execution_count": 11,
     "metadata": {},
     "output_type": "execute_result"
    }
   ],
   "source": [
    "embChart = JFinM_Charts.embed(treeData, trChrt, d3lib, width = 550, height = 300)"
   ]
  },
  {
   "cell_type": "markdown",
   "metadata": {},
   "source": [
    "- to retrieve the underlying html file:"
   ]
  },
  {
   "cell_type": "code",
   "execution_count": 12,
   "metadata": {
    "collapsed": false
   },
   "outputs": [
    {
     "data": {
      "text/plain": [
       "\"/home/jovyan/mount/notebooks/tmp/juliaBTx3WS_VineTreeChart.html\""
      ]
     },
     "execution_count": 12,
     "metadata": {},
     "output_type": "execute_result"
    }
   ],
   "source": [
    "embChart.absHtmlPath"
   ]
  },
  {
   "cell_type": "markdown",
   "metadata": {},
   "source": [
    "- access all information of the embedded chart instance"
   ]
  },
  {
   "cell_type": "code",
   "execution_count": 13,
   "metadata": {
    "collapsed": false
   },
   "outputs": [
    {
     "name": "stdout",
     "output_type": "stream",
     "text": [
      "D3Embedded \n",
      "  htmlChart: NB_Raw_HTML \n",
      "    s: ASCIIString \"<iframe src=\\\"tmp/juliaBTx3WS_VineTreeChart.html\\\"  width=\\\"550\\\"height=\\\"300\\\"></iframe>\"\n",
      "  absHtmlPath: ASCIIString \"/home/jovyan/mount/notebooks/tmp/juliaBTx3WS_VineTreeChart.html\"\n",
      "  relHtmlPath: ASCIIString \"tmp/juliaBTx3WS_VineTreeChart.html\"\n",
      "  dataPaths: Array(ASCIIString,(1,)) ASCIIString[\"embedded data\"]\n"
     ]
    }
   ],
   "source": [
    "dump(embChart)"
   ]
  },
  {
   "cell_type": "markdown",
   "metadata": {},
   "source": [
    "- for charts without external data field `dataPaths` will show the variable name of the data in Javascript"
   ]
  },
  {
   "cell_type": "code",
   "execution_count": 14,
   "metadata": {
    "collapsed": false,
    "scrolled": false
   },
   "outputs": [
    {
     "data": {
      "text/plain": [
       "1-element Array{ASCIIString,1}:\n",
       " \"embedded data\""
      ]
     },
     "execution_count": 14,
     "metadata": {},
     "output_type": "execute_result"
    }
   ],
   "source": [
    "embChart.dataPaths"
   ]
  },
  {
   "cell_type": "markdown",
   "metadata": {},
   "source": [
    "- permanently save chart with `render`"
   ]
  },
  {
   "cell_type": "code",
   "execution_count": 15,
   "metadata": {
    "collapsed": false
   },
   "outputs": [
    {
     "data": {
      "text/plain": [
       "\"/home/jovyan/mount/notebooks/tmp/treeChartTest.html\""
      ]
     },
     "execution_count": 15,
     "metadata": {},
     "output_type": "execute_result"
    }
   ],
   "source": [
    "render(treeData, trChrt, \"./tmp/treeChartTest.html\", [\"treeArrayDataName\"], d3lib)"
   ]
  },
  {
   "cell_type": "code",
   "execution_count": 16,
   "metadata": {
    "collapsed": false
   },
   "outputs": [
    {
     "data": {
      "text/plain": [
       "3-element Array{Union(ASCIIString,UTF8String),1}:\n",
       " \"juliaBTx3WS_VineTreeChart.html\"\n",
       " \"juliaoaNYAp_VineTreeChart.html\"\n",
       " \"treeChartTest.html\"            "
      ]
     },
     "execution_count": 16,
     "metadata": {},
     "output_type": "execute_result"
    }
   ],
   "source": [
    "readdir(\"./tmp\")"
   ]
  },
  {
   "cell_type": "markdown",
   "metadata": {},
   "source": [
    "- with online d3 library"
   ]
  },
  {
   "cell_type": "code",
   "execution_count": 17,
   "metadata": {
    "collapsed": false
   },
   "outputs": [
    {
     "data": {
      "text/plain": [
       "\"/home/jovyan/mount/notebooks/tmp/treeChartTest.html\""
      ]
     },
     "execution_count": 17,
     "metadata": {},
     "output_type": "execute_result"
    }
   ],
   "source": [
    "render(treeData, trChrt, \"./tmp/treeChartTest.html\", [\"treeArrayDataName\"])"
   ]
  },
  {
   "cell_type": "markdown",
   "metadata": {},
   "source": [
    "#### Multi-line chart with underlying data file"
   ]
  },
  {
   "cell_type": "code",
   "execution_count": 18,
   "metadata": {
    "collapsed": true
   },
   "outputs": [],
   "source": [
    "using TimeData"
   ]
  },
  {
   "cell_type": "markdown",
   "metadata": {},
   "source": [
    "- create customized chart"
   ]
  },
  {
   "cell_type": "code",
   "execution_count": 19,
   "metadata": {
    "collapsed": false
   },
   "outputs": [
    {
     "data": {
      "text/plain": [
       "MLineChart(\"MLineChart\",\"lineCharts/mlineChartShowNAs.js\",true,1,900,400,\"lin\",\"\")"
      ]
     },
     "execution_count": 19,
     "metadata": {},
     "output_type": "execute_result"
    }
   ],
   "source": [
    "chrt = JFinM_Charts.chart(MLineChart)"
   ]
  },
  {
   "cell_type": "markdown",
   "metadata": {},
   "source": [
    "- create data"
   ]
  },
  {
   "cell_type": "code",
   "execution_count": 20,
   "metadata": {
    "collapsed": false
   },
   "outputs": [
    {
     "data": {
      "text/html": [
       "<p><strong>Timematr{Date}</strong></p><p>Dimensions: <strong>(3, 1)</strong></p><p>From: <strong>2001-01-01</strong>, To: <strong>2001-01-03</strong></p><table class=\"data-frame\"><tr><th></th><th>idx</th><th>x1</th></tr><tr><th>1</th><td>2001-01-01</td><td>0.604</td></tr><tr><th>2</th><td>2001-01-02</td><td>0.27</td></tr><tr><th>3</th><td>2001-01-03</td><td>0.378</td></tr></table>"
      ],
      "text/plain": [
       "Timematr{Date}(3x1 DataFrame\n",
       "| Row | x1       |\n",
       "|-----|----------|\n",
       "| 1   | 0.60387  |\n",
       "| 2   | 0.269673 |\n",
       "| 3   | 0.378151 |,[2001-01-01,2001-01-02,2001-01-03])"
      ]
     },
     "execution_count": 20,
     "metadata": {},
     "output_type": "execute_result"
    }
   ],
   "source": [
    "dats = [Date(2001,1,1):Date(2001,1,30)]\n",
    "data = Timematr(rand(30), dats)\n",
    "data[1:3, :]"
   ]
  },
  {
   "cell_type": "markdown",
   "metadata": {},
   "source": [
    "- render chart with default output:"
   ]
  },
  {
   "cell_type": "code",
   "execution_count": 25,
   "metadata": {
    "collapsed": false,
    "scrolled": false
   },
   "outputs": [
    {
     "name": "stdout",
     "output_type": "stream",
     "text": [
      "/home/jovyan/mount/notebooks/tmp/juliaW3prqg_MLineChart.html\n",
      "/home/jovyan/mount/notebooks/tmp/juliaW3prqg_MLineChart_data.csv\n"
     ]
    },
    {
     "data": {
      "text/html": [
       "<iframe src=\"tmp/juliaW3prqg_MLineChart.html\"  width=\"850\"height=\"600\"></iframe>"
      ],
      "text/plain": [
       "D3Embedded(NB_Raw_HTML(\"<iframe src=\\\"tmp/juliaW3prqg_MLineChart.html\\\"  width=\\\"850\\\"height=\\\"600\\\"></iframe>\"),\"/home/jovyan/mount/notebooks/tmp/juliaW3prqg_MLineChart.html\",\"tmp/juliaW3prqg_MLineChart.html\",ASCIIString[\"embedded data\"])"
      ]
     },
     "execution_count": 25,
     "metadata": {},
     "output_type": "execute_result"
    }
   ],
   "source": [
    "embed(data, chrt, width = 850, height = 600)"
   ]
  },
  {
   "cell_type": "markdown",
   "metadata": {},
   "source": [
    "- render chart to disk with automatic data names:"
   ]
  },
  {
   "cell_type": "code",
   "execution_count": 27,
   "metadata": {
    "collapsed": false
   },
   "outputs": [
    {
     "name": "stdout",
     "output_type": "stream",
     "text": [
      "/home/jovyan/mount/notebooks/tmp/linePlot.html\n",
      "/home/jovyan/mount/notebooks/tmp/linePlot_data.csv\n"
     ]
    },
    {
     "data": {
      "text/plain": [
       "\"/home/jovyan/mount/notebooks/tmp/linePlot.html\""
      ]
     },
     "execution_count": 27,
     "metadata": {},
     "output_type": "execute_result"
    }
   ],
   "source": [
    "render(data, chrt, \"./tmp/linePlot.html\")"
   ]
  },
  {
   "cell_type": "markdown",
   "metadata": {},
   "source": [
    "- render chart with given data"
   ]
  },
  {
   "cell_type": "code",
   "execution_count": 28,
   "metadata": {
    "collapsed": false
   },
   "outputs": [
    {
     "data": {
      "text/plain": [
       "\"/home/jovyan/mount/notebooks/tmp/linePlot2.html\""
      ]
     },
     "execution_count": 28,
     "metadata": {},
     "output_type": "execute_result"
    }
   ],
   "source": [
    "render([], chrt, \"./tmp/linePlot2.html\", [\"./tmp/linePlot_data.csv\"])"
   ]
  }
 ],
 "metadata": {
  "kernelspec": {
   "display_name": "Julia",
   "language": "julia",
   "name": "julia"
  },
  "language_info": {
   "name": "julia",
   "version": "0.3.6"
  }
 },
 "nbformat": 4,
 "nbformat_minor": 0
}
