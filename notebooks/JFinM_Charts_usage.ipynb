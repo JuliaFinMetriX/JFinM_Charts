{
 "cells": [
  {
   "cell_type": "markdown",
   "metadata": {},
   "source": [
    "In general, we need to define paths to the following components:\n",
    "- output file\n",
    "- d3 library\n",
    "- data\n",
    "- d3 chart code\n",
    "- localhost\n",
    "\n",
    "Thereby only two components are defined **relative to the current directory**:\n",
    "- output file\n",
    "- localhost\n",
    "\n",
    "All other components are **relative to the output file**:\n",
    "- d3 library\n",
    "- data,\n",
    "\n",
    "except the d3 chart code, which always resides in the package directory and gets completely included into the output file."
   ]
  },
  {
   "cell_type": "markdown",
   "metadata": {},
   "source": [
    "## Define chart type"
   ]
  },
  {
   "cell_type": "markdown",
   "metadata": {},
   "source": [
    "The best way to create a chart instance is through the general function `chart`, which simultaneously allows further customizations through keyword arguments:"
   ]
  },
  {
   "cell_type": "code",
   "execution_count": 1,
   "metadata": {
    "collapsed": false
   },
   "outputs": [],
   "source": [
    "using JFinM_Charts"
   ]
  },
  {
   "cell_type": "code",
   "execution_count": 1,
   "metadata": {
    "collapsed": true
   },
   "outputs": [],
   "source": [
    "using TimeData\n",
    "using Dates\n",
    "using JFinM_Charts"
   ]
  },
  {
   "cell_type": "code",
   "execution_count": 2,
   "metadata": {
    "collapsed": false
   },
   "outputs": [
    {
     "data": {
      "text/plain": [
       "\"/home/jovyan/mount\""
      ]
     },
     "execution_count": 2,
     "metadata": {},
     "output_type": "execute_result"
    }
   ],
   "source": [
    "pwd()"
   ]
  },
  {
   "cell_type": "code",
   "execution_count": 2,
   "metadata": {
    "collapsed": false
   },
   "outputs": [
    {
     "data": {
      "text/plain": [
       "\"/home/jovyan\""
      ]
     },
     "execution_count": 2,
     "metadata": {},
     "output_type": "execute_result"
    }
   ],
   "source": [
    "cd(\"../\")\n",
    "projectDir = pwd()"
   ]
  },
  {
   "cell_type": "code",
   "execution_count": 3,
   "metadata": {
    "collapsed": false
   },
   "outputs": [
    {
     "name": "stdout",
     "output_type": "stream",
     "text": [
      "JFinM_Charts package not yet added to julia package directory\n"
     ]
    }
   ],
   "source": [
    "try\n",
    "    using JFinM_Charts\n",
    "catch e\n",
    "    println(\"JFinM_Charts package not yet added to julia package directory\")\n",
    "    cd(string(homedir(), \"/.julia/v0.3\"))\n",
    "    try \n",
    "        symlink(string(homedir(), \"/research/julia/JFinM_Charts/\"), \"JFinM_Charts\")\n",
    "    catch\n",
    "    end\n",
    "    using JFinM_Charts\n",
    "end    \n",
    "cd(projectDir)"
   ]
  },
  {
   "cell_type": "markdown",
   "metadata": {},
   "source": [
    "- create link to d3 library inside of current directory, if not yet present"
   ]
  },
  {
   "cell_type": "code",
   "execution_count": 3,
   "metadata": {
    "collapsed": false
   },
   "outputs": [
    {
     "name": "stdout",
     "output_type": "stream",
     "text": [
      "symlink: file already exists (EEXIST)"
     ]
    },
    {
     "data": {
      "text/plain": [
       "D3Lib(\"./d3\",false)"
      ]
     },
     "execution_count": 3,
     "metadata": {},
     "output_type": "execute_result"
    }
   ],
   "source": [
    "d3lib = []\n",
    "try\n",
    "    d3lib = d3SymLink()\n",
    "catch\n",
    "end"
   ]
  },
  {
   "cell_type": "markdown",
   "metadata": {},
   "source": [
    "- d3 folder now exists for offline graphics"
   ]
  },
  {
   "cell_type": "code",
   "execution_count": 6,
   "metadata": {
    "collapsed": false,
    "scrolled": false
   },
   "outputs": [
    {
     "data": {
      "text/plain": [
       "3-element Array{Union(ASCIIString,UTF8String),1}:\n",
       " \"d3\"                      \n",
       " \".ipynb_checkpoints\"      \n",
       " \"JFinM_Charts_usage.ipynb\""
      ]
     },
     "execution_count": 6,
     "metadata": {},
     "output_type": "execute_result"
    }
   ],
   "source": [
    "readdir()"
   ]
  },
  {
   "cell_type": "markdown",
   "metadata": {},
   "source": [
    "#### Tree chart without data file"
   ]
  },
  {
   "cell_type": "markdown",
   "metadata": {},
   "source": [
    "- create data"
   ]
  },
  {
   "cell_type": "code",
   "execution_count": 2,
   "metadata": {
    "collapsed": false
   },
   "outputs": [
    {
     "data": {
      "text/plain": [
       "6x6 Array{Int64,2}:\n",
       " 0  2  2  2  2  2\n",
       " 1  0  3  3  3  3\n",
       " 2  2  0  4  4  4\n",
       " 3  3  3  0  5  5\n",
       " 4  4  4  4  0  6\n",
       " 5  5  5  5  5  0"
      ]
     },
     "execution_count": 2,
     "metadata": {},
     "output_type": "execute_result"
    }
   ],
   "source": [
    "treeData = [0  2  2  2  2  2;\n",
    "            1  0  3  3  3  3;\n",
    "            2  2  0  4  4  4;\n",
    "            3  3  3  0  5  5;\n",
    "            4  4  4  4  0  6;\n",
    "            5  5  5  5  5  0]"
   ]
  },
  {
   "cell_type": "markdown",
   "metadata": {},
   "source": [
    "- create customized chart"
   ]
  },
  {
   "cell_type": "code",
   "execution_count": 3,
   "metadata": {
    "collapsed": false
   },
   "outputs": [
    {
     "data": {
      "text/plain": [
       "VineTreeChart(\"VineTreeChart\",\"vines/vineTreeChart.js\",false,1,80,500,50,12)"
      ]
     },
     "execution_count": 3,
     "metadata": {},
     "output_type": "execute_result"
    }
   ],
   "source": [
    "trChrt = chart(JFinM_Charts.VineTreeChart, vSpace = 50, width = 80)"
   ]
  },
  {
   "cell_type": "markdown",
   "metadata": {},
   "source": [
    "- to see whether a chart requires external data, look at field `extData`:"
   ]
  },
  {
   "cell_type": "code",
   "execution_count": 4,
   "metadata": {
    "collapsed": false
   },
   "outputs": [
    {
     "name": "stdout",
     "output_type": "stream",
     "text": [
      "VineTreeChart \n",
      "  chartType: ASCIIString \"VineTreeChart\"\n",
      "  jsCodePath: ASCIIString \"vines/vineTreeChart.js\"\n",
      "  extData: Bool false\n",
      "  nData: Int64 1\n",
      "  width: Int64 80\n",
      "  height: Int64 500\n",
      "  vSpace: Int64 50\n",
      "  nodeRadius: Int64 12\n"
     ]
    }
   ],
   "source": [
    "dump(trChrt)"
   ]
  },
  {
   "cell_type": "markdown",
   "metadata": {},
   "source": [
    "- hence this chart can be embedded without external data"
   ]
  },
  {
   "cell_type": "code",
   "execution_count": 5,
   "metadata": {
    "collapsed": false,
    "scrolled": true
   },
   "outputs": [
    {
     "data": {
      "text/html": [
       "<iframe src=\"./tmp/juliaDAbBGN_VineTreeChart.html\"  ></iframe>"
      ],
      "text/plain": [
       "D3Embedded(NB_Raw_HTML(\"<iframe src=\\\"./tmp/juliaDAbBGN_VineTreeChart.html\\\"  ></iframe>\"),\"./tmp/juliaDAbBGN_VineTreeChart.html\",ASCIIString[\"treeArrayData\"])"
      ]
     },
     "execution_count": 5,
     "metadata": {},
     "output_type": "execute_result"
    }
   ],
   "source": [
    "d3lib = JFinM_Charts.D3Lib()\n",
    "kk = JFinM_Charts.embed(treeData, trChrt, d3lib)"
   ]
  },
  {
   "cell_type": "code",
   "execution_count": 6,
   "metadata": {
    "collapsed": false,
    "scrolled": true
   },
   "outputs": [
    {
     "name": "stdout",
     "output_type": "stream",
     "text": [
      "D3Embedded \n",
      "  htmlChart: NB_Raw_HTML \n",
      "    s: ASCIIString \"<iframe src=\\\"./tmp/juliaDAbBGN_VineTreeChart.html\\\"  ></iframe>\"\n",
      "  htmlPath: ASCIIString \"./tmp/juliaDAbBGN_VineTreeChart.html\"\n",
      "  dataPaths: Array(ASCIIString,(1,)) ASCIIString[\"treeArrayData\"]\n"
     ]
    }
   ],
   "source": [
    "dump(kk)"
   ]
  },
  {
   "cell_type": "code",
   "execution_count": 7,
   "metadata": {
    "collapsed": false
   },
   "outputs": [
    {
     "data": {
      "text/plain": [
       "\"./tmp/juliaDAbBGN_VineTreeChart.html\""
      ]
     },
     "execution_count": 7,
     "metadata": {},
     "output_type": "execute_result"
    }
   ],
   "source": [
    "kk.htmlPath"
   ]
  },
  {
   "cell_type": "code",
   "execution_count": 8,
   "metadata": {
    "collapsed": false
   },
   "outputs": [
    {
     "data": {
      "text/plain": [
       "4-element Array{Union(ASCIIString,UTF8String),1}:\n",
       " \"d3\"                      \n",
       " \".ipynb_checkpoints\"      \n",
       " \"JFinM_Charts_usage.ipynb\"\n",
       " \"tmp\"                     "
      ]
     },
     "execution_count": 8,
     "metadata": {},
     "output_type": "execute_result"
    }
   ],
   "source": [
    "readdir()"
   ]
  },
  {
   "cell_type": "code",
   "execution_count": 9,
   "metadata": {
    "collapsed": false
   },
   "outputs": [
    {
     "data": {
      "text/plain": [
       "13-element Array{Union(ASCIIString,UTF8String),1}:\n",
       " \"julia2Daj7V_VineTreeChart.html\"\n",
       " \"juliaDAbBGN_VineTreeChart.html\"\n",
       " \"juliahhM3TS_VineTreeChart.html\"\n",
       " \"juliahkvkGT_VineTreeChart.html\"\n",
       " \"juliaj3MTTG_VineTreeChart.html\"\n",
       " \"juliaJP7SMm_VineTreeChart.html\"\n",
       " \"juliaLTAd5t_VineTreeChart.html\"\n",
       " \"juliatrlLf7_VineTreeChart.html\"\n",
       " \"juliaTz806j_VineTreeChart.html\"\n",
       " \"juliavPBj6r_VineTreeChart.html\"\n",
       " \"juliavq5aw0_VineTreeChart.html\"\n",
       " \"juliayleBbb_VineTreeChart.html\"\n",
       " \"treeChart.html\"                "
      ]
     },
     "execution_count": 9,
     "metadata": {},
     "output_type": "execute_result"
    }
   ],
   "source": [
    "readdir(\"./tmp\")"
   ]
  },
  {
   "cell_type": "markdown",
   "metadata": {},
   "source": [
    "- embed with improved iframe settings"
   ]
  },
  {
   "cell_type": "code",
   "execution_count": 10,
   "metadata": {
    "collapsed": false
   },
   "outputs": [
    {
     "data": {
      "text/html": [
       "<iframe src=\"./tmp/juliaNlElND_VineTreeChart.html\"  width=\"550\"height=\"300\"></iframe>"
      ],
      "text/plain": [
       "D3Embedded(NB_Raw_HTML(\"<iframe src=\\\"./tmp/juliaNlElND_VineTreeChart.html\\\"  width=\\\"550\\\"height=\\\"300\\\"></iframe>\"),\"./tmp/juliaNlElND_VineTreeChart.html\",ASCIIString[\"treeArrayData\"])"
      ]
     },
     "execution_count": 10,
     "metadata": {},
     "output_type": "execute_result"
    }
   ],
   "source": [
    "kk = JFinM_Charts.embed(treeData, trChrt, d3lib, width=550, height=300)"
   ]
  },
  {
   "cell_type": "code",
   "execution_count": 11,
   "metadata": {
    "collapsed": false,
    "scrolled": false
   },
   "outputs": [
    {
     "data": {
      "text/plain": [
       "1-element Array{ASCIIString,1}:\n",
       " \"treeArrayData\""
      ]
     },
     "execution_count": 11,
     "metadata": {},
     "output_type": "execute_result"
    }
   ],
   "source": [
    "kk.dataPaths"
   ]
  },
  {
   "cell_type": "markdown",
   "metadata": {},
   "source": [
    "#### D3VizEmb"
   ]
  },
  {
   "cell_type": "markdown",
   "metadata": {},
   "source": [
    "- now you could create a `D3VizEmb` object, which contains all code relevant to render the chart\n",
    "- the `D3VizEmb` object then can be rendered to different backends:\n",
    "  - to `html` file to embed it in notebook files\n",
    "  - to a disposable `html` file in `tmp` to get a quick view only\n",
    "- in principle you still need to define:\n",
    "  - the output file\n",
    "  - the link to the d3 chart library"
   ]
  },
  {
   "cell_type": "code",
   "execution_count": 13,
   "metadata": {
    "collapsed": false
   },
   "outputs": [],
   "source": [
    "d3viz = JFinM_Charts.D3VizEmb(treeData, trChrt);"
   ]
  },
  {
   "cell_type": "code",
   "execution_count": 14,
   "metadata": {
    "collapsed": false
   },
   "outputs": [
    {
     "ename": "LoadError",
     "evalue": "render not defined\nwhile loading In[14], in expression starting on line 1",
     "output_type": "error",
     "traceback": [
      "render not defined\nwhile loading In[14], in expression starting on line 1",
      ""
     ]
    }
   ],
   "source": [
    "JFinM_Charts.render(d3viz, \"testTreeChart.html\", \"\")"
   ]
  },
  {
   "cell_type": "markdown",
   "metadata": {},
   "source": [
    "- render chart"
   ]
  },
  {
   "cell_type": "code",
   "execution_count": 8,
   "metadata": {
    "collapsed": false
   },
   "outputs": [
    {
     "ename": "LoadError",
     "evalue": "renderHTML not defined\nwhile loading In[8], in expression starting on line 1",
     "output_type": "error",
     "traceback": [
      "renderHTML not defined\nwhile loading In[8], in expression starting on line 1",
      ""
     ]
    }
   ],
   "source": [
    "outData, outChart = renderHTML(treeData, trChrt, outputPath = \"tmp/juliaGJpEKl_VineTreeChart.html\")"
   ]
  },
  {
   "cell_type": "markdown",
   "metadata": {},
   "source": [
    "- include chart as iframe"
   ]
  },
  {
   "cell_type": "code",
   "execution_count": 8,
   "metadata": {
    "collapsed": false
   },
   "outputs": [
    {
     "data": {
      "text/plain": [
       "\"juliaGJpEKl_VineTreeChart.html\""
      ]
     },
     "execution_count": 8,
     "metadata": {},
     "output_type": "execute_result"
    }
   ],
   "source": [
    "relOut = basename(outChart)"
   ]
  },
  {
   "cell_type": "code",
   "execution_count": 9,
   "metadata": {
    "collapsed": false
   },
   "outputs": [
    {
     "data": {
      "text/plain": [
       "\"<iframe src=\\\"../tmp/juliaGJpEKl_VineTreeChart.html\\\"  width=\\\"600\\\"height=\\\"350\\\"></iframe>\""
      ]
     },
     "execution_count": 9,
     "metadata": {},
     "output_type": "execute_result"
    }
   ],
   "source": [
    "iframeCode = iframe(\"../tmp/$relOut\", width=600, height=\"350\")"
   ]
  },
  {
   "cell_type": "code",
   "execution_count": 10,
   "metadata": {
    "collapsed": false
   },
   "outputs": [
    {
     "data": {
      "text/html": [
       "<iframe src=\"../tmp/juliaGJpEKl_VineTreeChart.html\"  width=\"600\"height=\"350\"></iframe>"
      ],
      "text/plain": [
       "NB_Raw_HTML(\"<iframe src=\\\"../tmp/juliaGJpEKl_VineTreeChart.html\\\"  width=\\\"600\\\"height=\\\"350\\\"></iframe>\")"
      ]
     },
     "execution_count": 10,
     "metadata": {},
     "output_type": "execute_result"
    }
   ],
   "source": [
    "NB_Raw_HTML(iframeCode)"
   ]
  },
  {
   "cell_type": "markdown",
   "metadata": {},
   "source": [
    "#### Multi-line chart with underlying data file"
   ]
  },
  {
   "cell_type": "markdown",
   "metadata": {},
   "source": [
    "- create customized chart"
   ]
  },
  {
   "cell_type": "code",
   "execution_count": 11,
   "metadata": {
    "collapsed": false
   },
   "outputs": [
    {
     "data": {
      "text/plain": [
       "MLineChart(\"MLineChart\",900,400,\"lin\",\"\")"
      ]
     },
     "execution_count": 11,
     "metadata": {},
     "output_type": "execute_result"
    }
   ],
   "source": [
    "chrt = JFinM_Charts.chart(MLineChart)"
   ]
  },
  {
   "cell_type": "markdown",
   "metadata": {},
   "source": [
    "- create data"
   ]
  },
  {
   "cell_type": "code",
   "execution_count": 12,
   "metadata": {
    "collapsed": false
   },
   "outputs": [
    {
     "data": {
      "text/html": [
       "<p><strong>Timematr{Date}</strong></p><p>Dimensions: <strong>(3, 1)</strong></p><p>From: <strong>2001-01-01</strong>, To: <strong>2001-01-03</strong></p><table class=\"data-frame\"><tr><th></th><th>idx</th><th>x1</th></tr><tr><th>1</th><td>2001-01-01</td><td>0.238</td></tr><tr><th>2</th><td>2001-01-02</td><td>0.052</td></tr><tr><th>3</th><td>2001-01-03</td><td>0.073</td></tr></table>"
      ],
      "text/plain": [
       "Timematr{Date}(3x1 DataFrame\n",
       "| Row | x1        |\n",
       "|-----|-----------|\n",
       "| 1   | 0.238144  |\n",
       "| 2   | 0.0515576 |\n",
       "| 3   | 0.0730449 |,[2001-01-01,2001-01-02,2001-01-03])"
      ]
     },
     "execution_count": 12,
     "metadata": {},
     "output_type": "execute_result"
    }
   ],
   "source": [
    "dats = [Date(2001,1,1):Date(2001,1,30)]\n",
    "data = Timematr(rand(30), dats)\n",
    "data[1:3, :]"
   ]
  },
  {
   "cell_type": "markdown",
   "metadata": {},
   "source": [
    "- render chart with default output:"
   ]
  },
  {
   "cell_type": "code",
   "execution_count": 13,
   "metadata": {
    "collapsed": false
   },
   "outputs": [
    {
     "data": {
      "text/plain": [
       "(\"/home/jovyan/mount/tmp/juliazeRszH_MLineChart.csv\",\"/home/jovyan/mount/tmp/juliazeRszH_MLineChart.html\")"
      ]
     },
     "execution_count": 13,
     "metadata": {},
     "output_type": "execute_result"
    }
   ],
   "source": [
    "outData, outChart = renderHTML(data, chrt)"
   ]
  },
  {
   "cell_type": "markdown",
   "metadata": {},
   "source": [
    "- as can be seen, this will\n",
    "  - use a random string and the chart type to denote the file itself\n",
    "  - render the chart in subdirectory ./tmp of the current working directory  "
   ]
  },
  {
   "cell_type": "code",
   "execution_count": 14,
   "metadata": {
    "collapsed": false
   },
   "outputs": [
    {
     "data": {
      "text/plain": [
       "\"/home/jovyan/mount\""
      ]
     },
     "execution_count": 14,
     "metadata": {},
     "output_type": "execute_result"
    }
   ],
   "source": [
    "pwd()"
   ]
  },
  {
   "cell_type": "markdown",
   "metadata": {},
   "source": [
    "Potential warning messages have the following meaning:\n",
    "- if directories needed to be created in order to create the output directory or the data directory"
   ]
  },
  {
   "cell_type": "markdown",
   "metadata": {},
   "source": [
    "#### Embed as iframe"
   ]
  },
  {
   "cell_type": "markdown",
   "metadata": {},
   "source": [
    "- the output can be embedded as iframe:"
   ]
  },
  {
   "cell_type": "code",
   "execution_count": 15,
   "metadata": {
    "collapsed": false
   },
   "outputs": [
    {
     "data": {
      "text/plain": [
       "\"juliazeRszH_MLineChart.html\""
      ]
     },
     "execution_count": 15,
     "metadata": {},
     "output_type": "execute_result"
    }
   ],
   "source": [
    "relOut = basename(outChart)"
   ]
  },
  {
   "cell_type": "code",
   "execution_count": 16,
   "metadata": {
    "collapsed": false
   },
   "outputs": [
    {
     "data": {
      "text/plain": [
       "\"<iframe width=\\\"900\\\" height=\\\"600\\\" src=\\\"../tmp/juliazeRszH_MLineChart.html\\\"></iframe>\""
      ]
     },
     "execution_count": 16,
     "metadata": {},
     "output_type": "execute_result"
    }
   ],
   "source": [
    "iframeCode = \"\"\"<iframe width=\"900\" height=\"600\" src=\"../tmp/$relOut\"></iframe>\"\"\""
   ]
  },
  {
   "cell_type": "code",
   "execution_count": 18,
   "metadata": {
    "collapsed": false
   },
   "outputs": [
    {
     "data": {
      "text/html": [
       "<iframe width=\"900\" height=\"600\" src=\"../tmp/juliazeRszH_MLineChart.html\"></iframe>"
      ],
      "text/plain": [
       "NB_Raw_HTML(\"<iframe width=\\\"900\\\" height=\\\"600\\\" src=\\\"../tmp/juliazeRszH_MLineChart.html\\\"></iframe>\")"
      ]
     },
     "execution_count": 18,
     "metadata": {},
     "output_type": "execute_result"
    }
   ],
   "source": [
    "NB_Raw_HTML(iframeCode)"
   ]
  }
 ],
 "metadata": {
  "kernelspec": {
   "display_name": "Julia",
   "language": "julia",
   "name": "julia"
  },
  "language_info": {
   "name": "julia",
   "version": "0.3.6"
  }
 },
 "nbformat": 4,
 "nbformat_minor": 0
}
